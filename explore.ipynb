{
 "cells": [
  {
   "cell_type": "code",
   "execution_count": 1,
   "metadata": {},
   "outputs": [],
   "source": [
    "from operator import itemgetter\n",
    "\n",
    "from langchain.schema import StrOutputParser\n",
    "from langchain_core.prompts import ChatPromptTemplate\n",
    "from langchain_openai import ChatOpenAI\n",
    "from langchain_core.runnables import RunnablePassthrough\n",
    "\n",
    "from dotenv import load_dotenv\n",
    "\n",
    "load_dotenv()  # take environment variables from .env.\n",
    "model = ChatOpenAI(model_name='gpt-4-turbo-preview')\n",
    "\n",
    "prompt1 = ChatPromptTemplate.from_template(\n",
    "    \"\"\"Make a joke about {initial_slides_text}. Return only the joke:\"\"\"\n",
    ")\n",
    "\n",
    "prompt2 = ChatPromptTemplate.from_template(\n",
    "    \"\"\"Make this joke funnier: {output_1}. Return only the joke:\"\"\"\n",
    ")\n",
    "\n",
    "prompt3 = ChatPromptTemplate.from_template(\n",
    "    \"\"\"Make this joke even funnier: {output_2}. Return only the joke:\"\"\"\n",
    ")\n",
    "\n",
    "prompt4 = ChatPromptTemplate.from_template(\n",
    "    \"\"\"Make this joke hilarious: {output_3}. Return only the joke:\"\"\"\n",
    ")\n",
    "\n",
    "model_parser = model | StrOutputParser()\n",
    "\n",
    "first_pass = (\n",
    "    {\"initial_slides_text\": RunnablePassthrough()} | prompt1 | {\"output_1\": model_parser}\n",
    ")\n",
    "second_pass = prompt2 | {\"output_2\": model_parser}\n",
    "third_pass = prompt3 | {\"output_3\": model_parser}\n",
    "fourth_pass = prompt4 | model_parser\n",
    "\n",
    "full_pass = (\n",
    "    first_pass | second_pass | third_pass | fourth_pass \n",
    ")"
   ]
  },
  {
   "cell_type": "code",
   "execution_count": 4,
   "metadata": {},
   "outputs": [
    {
     "data": {
      "text/plain": [
       "'Why did the coffee file a police report? Because it got mugged, and the spoon was the prime suspect for stirring up trouble!'"
      ]
     },
     "execution_count": 4,
     "metadata": {},
     "output_type": "execute_result"
    }
   ],
   "source": [
    "full_pass.invoke('coffee')"
   ]
  }
 ],
 "metadata": {
  "kernelspec": {
   "display_name": "Python 3",
   "language": "python",
   "name": "python3"
  },
  "language_info": {
   "codemirror_mode": {
    "name": "ipython",
    "version": 3
   },
   "file_extension": ".py",
   "mimetype": "text/x-python",
   "name": "python",
   "nbconvert_exporter": "python",
   "pygments_lexer": "ipython3",
   "version": "3.10.13"
  }
 },
 "nbformat": 4,
 "nbformat_minor": 2
}
